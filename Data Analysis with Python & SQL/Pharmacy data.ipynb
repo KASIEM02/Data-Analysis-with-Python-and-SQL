{
 "cells": [
  {
   "cell_type": "markdown",
   "id": "e0bac9e0",
   "metadata": {},
   "source": [
    "Analysis of a pharmacy sales"
   ]
  },
  {
   "cell_type": "code",
   "execution_count": null,
   "id": "89cd73f5",
   "metadata": {},
   "outputs": [],
   "source": [
    "#importing the necessary libraries\n",
    "\n",
    "import pandas as pd\n",
    "import numpy as np\n",
    "import seaborn as sns\n",
    "import matplotlib.pyplot as plt\n",
    "import seaborn as sns"
   ]
  },
  {
   "cell_type": "code",
   "execution_count": 2,
   "id": "013f1dde",
   "metadata": {},
   "outputs": [
    {
     "data": {
      "text/html": [
       "<div>\n",
       "<style scoped>\n",
       "    .dataframe tbody tr th:only-of-type {\n",
       "        vertical-align: middle;\n",
       "    }\n",
       "\n",
       "    .dataframe tbody tr th {\n",
       "        vertical-align: top;\n",
       "    }\n",
       "\n",
       "    .dataframe thead th {\n",
       "        text-align: right;\n",
       "    }\n",
       "</style>\n",
       "<table border=\"1\" class=\"dataframe\">\n",
       "  <thead>\n",
       "    <tr style=\"text-align: right;\">\n",
       "      <th></th>\n",
       "      <th>Store Number</th>\n",
       "      <th>Average Daily Customers</th>\n",
       "      <th>Average Daily Splashtastic Sales (Units)</th>\n",
       "      <th>Average Daily Splashtastic Sales (Dollars)</th>\n",
       "      <th>Average Total Daily Sales (All Products)</th>\n",
       "    </tr>\n",
       "  </thead>\n",
       "  <tbody>\n",
       "    <tr>\n",
       "      <th>0</th>\n",
       "      <td>1</td>\n",
       "      <td>120</td>\n",
       "      <td>6.0</td>\n",
       "      <td>$25.02</td>\n",
       "      <td>$2,686.00</td>\n",
       "    </tr>\n",
       "    <tr>\n",
       "      <th>1</th>\n",
       "      <td>2</td>\n",
       "      <td>144</td>\n",
       "      <td>18.0</td>\n",
       "      <td>$75.06</td>\n",
       "      <td>$4,291.00</td>\n",
       "    </tr>\n",
       "    <tr>\n",
       "      <th>2</th>\n",
       "      <td>3</td>\n",
       "      <td>394</td>\n",
       "      <td>13.0</td>\n",
       "      <td>$54.21</td>\n",
       "      <td>$5,168.00</td>\n",
       "    </tr>\n",
       "    <tr>\n",
       "      <th>3</th>\n",
       "      <td>4</td>\n",
       "      <td>122</td>\n",
       "      <td>17.0</td>\n",
       "      <td>$70.89</td>\n",
       "      <td>$2,844.00</td>\n",
       "    </tr>\n",
       "    <tr>\n",
       "      <th>4</th>\n",
       "      <td>5</td>\n",
       "      <td>132</td>\n",
       "      <td>3.0</td>\n",
       "      <td>$12.51</td>\n",
       "      <td>$3,241.00</td>\n",
       "    </tr>\n",
       "    <tr>\n",
       "      <th>5</th>\n",
       "      <td>6</td>\n",
       "      <td>140</td>\n",
       "      <td>10.0</td>\n",
       "      <td>$41.70</td>\n",
       "      <td>$3,865.00</td>\n",
       "    </tr>\n",
       "    <tr>\n",
       "      <th>6</th>\n",
       "      <td>7</td>\n",
       "      <td>139</td>\n",
       "      <td>4.0</td>\n",
       "      <td>$16.68</td>\n",
       "      <td>$3,772.00</td>\n",
       "    </tr>\n",
       "  </tbody>\n",
       "</table>\n",
       "</div>"
      ],
      "text/plain": [
       "   Store Number  Average Daily Customers  \\\n",
       "0             1                      120   \n",
       "1             2                      144   \n",
       "2             3                      394   \n",
       "3             4                      122   \n",
       "4             5                      132   \n",
       "5             6                      140   \n",
       "6             7                      139   \n",
       "\n",
       "   Average Daily Splashtastic Sales (Units)  \\\n",
       "0                                       6.0   \n",
       "1                                      18.0   \n",
       "2                                      13.0   \n",
       "3                                      17.0   \n",
       "4                                       3.0   \n",
       "5                                      10.0   \n",
       "6                                       4.0   \n",
       "\n",
       "  Average Daily Splashtastic Sales (Dollars)  \\\n",
       "0                                     $25.02   \n",
       "1                                     $75.06   \n",
       "2                                     $54.21   \n",
       "3                                     $70.89   \n",
       "4                                     $12.51   \n",
       "5                                     $41.70   \n",
       "6                                     $16.68   \n",
       "\n",
       "  Average Total Daily Sales (All Products)  \n",
       "0                                $2,686.00  \n",
       "1                                $4,291.00  \n",
       "2                                $5,168.00  \n",
       "3                                $2,844.00  \n",
       "4                                $3,241.00  \n",
       "5                                $3,865.00  \n",
       "6                                $3,772.00  "
      ]
     },
     "execution_count": 2,
     "metadata": {},
     "output_type": "execute_result"
    }
   ],
   "source": [
    "#import file from location path\n",
    "\n",
    "_csv_read_file_path=pd.read_csv(r'C:\\Users\\val-c\\Desktop\\COURSERA DATASHEET\\Pharmacy Data.csv')\n",
    "\n",
    "#display datasets\n",
    "_csv_read_file_path.head (7)\n",
    "\n",
    "#display now of rows and columns\n",
    "#_csv_read_file_path.shape "
   ]
  },
  {
   "cell_type": "code",
   "execution_count": 3,
   "id": "0c43078a",
   "metadata": {},
   "outputs": [
    {
     "name": "stdout",
     "output_type": "stream",
     "text": [
      "duplicate(s) = 0\n"
     ]
    }
   ],
   "source": [
    "#check for duplicates\n",
    "\n",
    "_dupl=_csv_read_file_path.duplicated().sum()\n",
    "print ('duplicate(s) =',_dupl)"
   ]
  },
  {
   "cell_type": "code",
   "execution_count": 4,
   "id": "f1d711ae",
   "metadata": {},
   "outputs": [
    {
     "data": {
      "text/html": [
       "<div>\n",
       "<style scoped>\n",
       "    .dataframe tbody tr th:only-of-type {\n",
       "        vertical-align: middle;\n",
       "    }\n",
       "\n",
       "    .dataframe tbody tr th {\n",
       "        vertical-align: top;\n",
       "    }\n",
       "\n",
       "    .dataframe thead th {\n",
       "        text-align: right;\n",
       "    }\n",
       "</style>\n",
       "<table border=\"1\" class=\"dataframe\">\n",
       "  <thead>\n",
       "    <tr style=\"text-align: right;\">\n",
       "      <th></th>\n",
       "      <th>Total</th>\n",
       "    </tr>\n",
       "  </thead>\n",
       "  <tbody>\n",
       "    <tr>\n",
       "      <th>Store Number</th>\n",
       "      <td>0</td>\n",
       "    </tr>\n",
       "    <tr>\n",
       "      <th>Average Daily Customers</th>\n",
       "      <td>0</td>\n",
       "    </tr>\n",
       "    <tr>\n",
       "      <th>Average Daily Splashtastic Sales (Units)</th>\n",
       "      <td>1</td>\n",
       "    </tr>\n",
       "    <tr>\n",
       "      <th>Average Daily Splashtastic Sales (Dollars)</th>\n",
       "      <td>1</td>\n",
       "    </tr>\n",
       "    <tr>\n",
       "      <th>Average Total Daily Sales (All Products)</th>\n",
       "      <td>0</td>\n",
       "    </tr>\n",
       "  </tbody>\n",
       "</table>\n",
       "</div>"
      ],
      "text/plain": [
       "                                            Total\n",
       "Store Number                                    0\n",
       "Average Daily Customers                         0\n",
       "Average Daily Splashtastic Sales (Units)        1\n",
       "Average Daily Splashtastic Sales (Dollars)      1\n",
       "Average Total Daily Sales (All Products)        0"
      ]
     },
     "execution_count": 4,
     "metadata": {},
     "output_type": "execute_result"
    }
   ],
   "source": [
    "#calculate the existing NaN/missing values in the datasets\n",
    "\n",
    "_csv_read_file_path.isna().sum().to_frame('Total')"
   ]
  },
  {
   "cell_type": "code",
   "execution_count": 5,
   "id": "cca6bb5a",
   "metadata": {},
   "outputs": [],
   "source": [
    "#drop NaN / missings values\n",
    "\n",
    "_csv_read_file_path.dropna(inplace=True)"
   ]
  },
  {
   "cell_type": "code",
   "execution_count": 6,
   "id": "a323616a",
   "metadata": {},
   "outputs": [
    {
     "data": {
      "text/plain": [
       "Store Number                                  37\n",
       "Average Daily Customers                       37\n",
       "Average Daily Splashtastic Sales (Units)      37\n",
       "Average Daily Splashtastic Sales (Dollars)    37\n",
       "Average Total Daily Sales (All Products)      37\n",
       "dtype: int64"
      ]
     },
     "execution_count": 6,
     "metadata": {},
     "output_type": "execute_result"
    }
   ],
   "source": [
    "#reconfirm the dropped NaN \n",
    "\n",
    "_csv_read_file_path.notna().sum()"
   ]
  },
  {
   "cell_type": "code",
   "execution_count": 7,
   "id": "082f3e2e",
   "metadata": {},
   "outputs": [
    {
     "data": {
      "text/plain": [
       "Store Number                                    int64\n",
       "Average Daily Customers                         int64\n",
       "Average Daily Splashtastic Sales (Units)      float64\n",
       "Average Daily Splashtastic Sales (Dollars)     object\n",
       "Average Total Daily Sales (All Products)       object\n",
       "dtype: object"
      ]
     },
     "execution_count": 7,
     "metadata": {},
     "output_type": "execute_result"
    }
   ],
   "source": [
    "#display data types for the dataframe\n",
    "\n",
    "_csv_read_file_path.dtypes"
   ]
  },
  {
   "cell_type": "code",
   "execution_count": 8,
   "id": "a3fcf848",
   "metadata": {},
   "outputs": [
    {
     "name": "stdout",
     "output_type": "stream",
     "text": [
      "Store Number                                    int64\n",
      "Average Daily Customers                         int64\n",
      "Average Daily Splashtastic Sales (Units)      float64\n",
      "Average Daily Splashtastic Sales (Dollars)    float64\n",
      "Average Total Daily Sales (All Products)      float64\n",
      "dtype: object\n"
     ]
    }
   ],
   "source": [
    "#tranform the object values to float,to enable calculations further\n",
    "\n",
    "_csv_read_file_path[_csv_read_file_path.columns[3:]] = _csv_read_file_path[_csv_read_file_path.columns[3:]].replace('[\\$,]', '', regex=True).astype(float)\n",
    "print(_csv_read_file_path.dtypes)"
   ]
  },
  {
   "cell_type": "code",
   "execution_count": 9,
   "id": "610f88e1",
   "metadata": {},
   "outputs": [
    {
     "name": "stdout",
     "output_type": "stream",
     "text": [
      "Total of average daily costumers is= 8111\n",
      "Total of average daily splashtastic sales (dollars) is = 1743\n",
      "Total of average daily splashtastic sales (units) is = 418\n"
     ]
    }
   ],
   "source": [
    "#calculate the total average daily customers, the Average Daily Splashtastic Sales (Dollars) and (units) from all the stores\n",
    "totl_costmr=_csv_read_file_path['Average Daily Customers'].sum()\n",
    "totl_sales=_csv_read_file_path['Average Daily Splashtastic Sales (Dollars)'].sum()\n",
    "totl_sales_units=_csv_read_file_path['Average Daily Splashtastic Sales (Units)'].sum()\n",
    "\n",
    "#print calculations\n",
    "print('Total of average daily costumers is=',  totl_costmr)\n",
    "print('Total of average daily splashtastic sales (dollars) is =',  totl_sales.astype(int))\n",
    "print('Total of average daily splashtastic sales (units) is =',  totl_sales_units.astype(int))"
   ]
  },
  {
   "cell_type": "code",
   "execution_count": 10,
   "id": "ca1fcdf6",
   "metadata": {},
   "outputs": [
    {
     "data": {
      "image/png": "[encoded data removed]",
      "text/plain": [
       "<Figure size 432x288 with 1 Axes>"
      ]
     },
     "metadata": {},
     "output_type": "display_data"
    }
   ],
   "source": [
    "# a pie chart to have the visuals of the above calcualted data\n",
    "\n",
    "_csv_read_file_path[['Average Daily Customers','Average Daily Splashtastic Sales (Dollars)',\n",
    "                     'Average Daily Splashtastic Sales (Units)']].sum().plot.pie(autopct='%1.0f%%',\n",
    "                    wedgeprops={'edgecolor':'black', 'linestyle': 'dashdot','antialiased':True}, \n",
    "                 textprops={'fontsize':10,'fontweight':'light'},\n",
    "                title='Total of all the average daily sales of splashtastic in (dollar and units) and customers from all the stores in %')\n",
    "\n",
    "\n",
    "plt.show()"
   ]
  },
  {
   "cell_type": "code",
   "execution_count": 11,
   "id": "9514fde4",
   "metadata": {},
   "outputs": [
    {
     "name": "stdout",
     "output_type": "stream",
     "text": [
      "Total of average daily splashtastic sales (all products) is = 146079\n",
      "Total of average daily costumers is= 8111\n"
     ]
    }
   ],
   "source": [
    "#calculate the total average daily customers & overall total Average of Daily Splashtastic Sales (all products) from all the stores\n",
    "\n",
    "all_prodt_sales=_csv_read_file_path ['Average Total Daily Sales (All Products)'].sum()\n",
    "\n",
    "print('Total of average daily splashtastic sales (all products) is =',  all_prodt_sales.astype(int))\n",
    "print('Total of average daily costumers is=',  totl_costmr)"
   ]
  },
  {
   "cell_type": "code",
   "execution_count": 12,
   "id": "1313194c",
   "metadata": {},
   "outputs": [
    {
     "data": {
      "text/html": [
       "<div>\n",
       "<style scoped>\n",
       "    .dataframe tbody tr th:only-of-type {\n",
       "        vertical-align: middle;\n",
       "    }\n",
       "\n",
       "    .dataframe tbody tr th {\n",
       "        vertical-align: top;\n",
       "    }\n",
       "\n",
       "    .dataframe thead th {\n",
       "        text-align: right;\n",
       "    }\n",
       "</style>\n",
       "<table border=\"1\" class=\"dataframe\">\n",
       "  <thead>\n",
       "    <tr style=\"text-align: right;\">\n",
       "      <th></th>\n",
       "      <th>Store Number</th>\n",
       "      <th>Average Daily Customers</th>\n",
       "      <th>Average Daily Splashtastic Sales (Units)</th>\n",
       "      <th>Average Daily Splashtastic Sales (Dollars)</th>\n",
       "      <th>Average Total Daily Sales (All Products)</th>\n",
       "    </tr>\n",
       "  </thead>\n",
       "  <tbody>\n",
       "    <tr>\n",
       "      <th>count</th>\n",
       "      <td>37.000000</td>\n",
       "      <td>37.000000</td>\n",
       "      <td>37.000000</td>\n",
       "      <td>37.000000</td>\n",
       "      <td>37.000000</td>\n",
       "    </tr>\n",
       "    <tr>\n",
       "      <th>mean</th>\n",
       "      <td>19.621622</td>\n",
       "      <td>219.216216</td>\n",
       "      <td>11.297297</td>\n",
       "      <td>47.109730</td>\n",
       "      <td>3948.081081</td>\n",
       "    </tr>\n",
       "    <tr>\n",
       "      <th>std</th>\n",
       "      <td>11.240678</td>\n",
       "      <td>110.269149</td>\n",
       "      <td>5.966876</td>\n",
       "      <td>24.881871</td>\n",
       "      <td>932.503720</td>\n",
       "    </tr>\n",
       "    <tr>\n",
       "      <th>min</th>\n",
       "      <td>1.000000</td>\n",
       "      <td>110.000000</td>\n",
       "      <td>1.000000</td>\n",
       "      <td>4.170000</td>\n",
       "      <td>2279.000000</td>\n",
       "    </tr>\n",
       "    <tr>\n",
       "      <th>25%</th>\n",
       "      <td>10.000000</td>\n",
       "      <td>130.000000</td>\n",
       "      <td>6.000000</td>\n",
       "      <td>25.020000</td>\n",
       "      <td>3135.000000</td>\n",
       "    </tr>\n",
       "    <tr>\n",
       "      <th>50%</th>\n",
       "      <td>20.000000</td>\n",
       "      <td>141.000000</td>\n",
       "      <td>13.000000</td>\n",
       "      <td>54.210000</td>\n",
       "      <td>3906.000000</td>\n",
       "    </tr>\n",
       "    <tr>\n",
       "      <th>75%</th>\n",
       "      <td>29.000000</td>\n",
       "      <td>306.000000</td>\n",
       "      <td>17.000000</td>\n",
       "      <td>70.890000</td>\n",
       "      <td>4764.000000</td>\n",
       "    </tr>\n",
       "    <tr>\n",
       "      <th>max</th>\n",
       "      <td>38.000000</td>\n",
       "      <td>396.000000</td>\n",
       "      <td>20.000000</td>\n",
       "      <td>83.400000</td>\n",
       "      <td>5256.000000</td>\n",
       "    </tr>\n",
       "  </tbody>\n",
       "</table>\n",
       "</div>"
      ],
      "text/plain": [
       "       Store Number  Average Daily Customers  \\\n",
       "count     37.000000                37.000000   \n",
       "mean      19.621622               219.216216   \n",
       "std       11.240678               110.269149   \n",
       "min        1.000000               110.000000   \n",
       "25%       10.000000               130.000000   \n",
       "50%       20.000000               141.000000   \n",
       "75%       29.000000               306.000000   \n",
       "max       38.000000               396.000000   \n",
       "\n",
       "       Average Daily Splashtastic Sales (Units)  \\\n",
       "count                                 37.000000   \n",
       "mean                                  11.297297   \n",
       "std                                    5.966876   \n",
       "min                                    1.000000   \n",
       "25%                                    6.000000   \n",
       "50%                                   13.000000   \n",
       "75%                                   17.000000   \n",
       "max                                   20.000000   \n",
       "\n",
       "       Average Daily Splashtastic Sales (Dollars)  \\\n",
       "count                                   37.000000   \n",
       "mean                                    47.109730   \n",
       "std                                     24.881871   \n",
       "min                                      4.170000   \n",
       "25%                                     25.020000   \n",
       "50%                                     54.210000   \n",
       "75%                                     70.890000   \n",
       "max                                     83.400000   \n",
       "\n",
       "       Average Total Daily Sales (All Products)  \n",
       "count                                 37.000000  \n",
       "mean                                3948.081081  \n",
       "std                                  932.503720  \n",
       "min                                 2279.000000  \n",
       "25%                                 3135.000000  \n",
       "50%                                 3906.000000  \n",
       "75%                                 4764.000000  \n",
       "max                                 5256.000000  "
      ]
     },
     "execution_count": 12,
     "metadata": {},
     "output_type": "execute_result"
    }
   ],
   "source": [
    "#get the statistics of the dataset/dataframe\n",
    "\n",
    "stat_distb=_csv_read_file_path.describe()\n",
    "stat_distb"
   ]
  },
  {
   "cell_type": "code",
   "execution_count": 13,
   "id": "287dc87c",
   "metadata": {},
   "outputs": [
    {
     "name": "stdout",
     "output_type": "stream",
     "text": [
      "result is: 0.9053507808395823\n"
     ]
    }
   ],
   "source": [
    "#determine if correlation exist between Average Daily Customers & Average Total Daily Sales (All Products), if yes, give a plot?\n",
    "\n",
    "corr_c_s=_csv_read_file_path['Average Daily Customers'].corr(_csv_read_file_path['Average Total Daily Sales (All Products)'])\n",
    "print( 'result is:', corr_c_s)"
   ]
  },
  {
   "cell_type": "code",
   "execution_count": 14,
   "id": "5684998c",
   "metadata": {},
   "outputs": [
    {
     "data": {
      "image/png": "[encoded data removed]",
      "text/plain": [
       "<Figure size 432x288 with 1 Axes>"
      ]
     },
     "metadata": {
      "needs_background": "light"
     },
     "output_type": "display_data"
    }
   ],
   "source": [
    "sns.regplot(x='Average Total Daily Sales (All Products)',y='Average Daily Customers',data=_csv_read_file_path) \n",
    "\n",
    "plt.show()"
   ]
  },
  {
   "cell_type": "code",
   "execution_count": 15,
   "id": "6e321d34",
   "metadata": {},
   "outputs": [
    {
     "data": {
      "image/png": "[encoded data removed]",
      "text/plain": [
       "<Figure size 432x288 with 2 Axes>"
      ]
     },
     "metadata": {
      "needs_background": "light"
     },
     "output_type": "display_data"
    }
   ],
   "source": [
    "#determine correlation in the  dataframe  and use the approximate plot to display the corr() result\n",
    "\n",
    "corrl_m=_csv_read_file_path.corr()\n",
    "#print(corrl_m)\n",
    "sns.heatmap(corrl_m)\n",
    "plt.show()\n",
    "\n"
   ]
  },
  {
   "cell_type": "code",
   "execution_count": 18,
   "id": "0bbfe3b9",
   "metadata": {},
   "outputs": [],
   "source": [
    "#save cleaned dataset\n",
    "_csv_read_file_path.to_csv('pharmacy_cleaned_data.csv')"
   ]
  },
  {
   "cell_type": "code",
   "execution_count": null,
   "id": "766e2aef",
   "metadata": {},
   "outputs": [],
   "source": []
  }
 ],
 "metadata": {
  "kernelspec": {
   "display_name": "Python 3 (ipykernel)",
   "language": "python",
   "name": "python3"
  },
  "language_info": {
   "codemirror_mode": {
    "name": "ipython",
    "version": 3
   },
   "file_extension": ".py",
   "mimetype": "text/x-python",
   "name": "python",
   "nbconvert_exporter": "python",
   "pygments_lexer": "ipython3",
   "version": "3.9.12"
  }
 },
 "nbformat": 4,
 "nbformat_minor": 5
}
